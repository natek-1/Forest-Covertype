{
 "cells": [
  {
   "cell_type": "code",
   "execution_count": 1,
   "metadata": {},
   "outputs": [
    {
     "name": "stdout",
     "output_type": "stream",
     "text": [
      "Collecting ucimlrepo\n",
      "  Downloading ucimlrepo-0.0.7-py3-none-any.whl.metadata (5.5 kB)\n",
      "Collecting pandas>=1.0.0 (from ucimlrepo)\n",
      "  Using cached pandas-2.0.3-cp38-cp38-macosx_11_0_arm64.whl.metadata (18 kB)\n",
      "Collecting certifi>=2020.12.5 (from ucimlrepo)\n",
      "  Using cached certifi-2024.7.4-py3-none-any.whl.metadata (2.2 kB)\n",
      "Requirement already satisfied: python-dateutil>=2.8.2 in /Users/ngkuissi/miniforge3/envs/forest/lib/python3.8/site-packages (from pandas>=1.0.0->ucimlrepo) (2.9.0)\n",
      "Collecting pytz>=2020.1 (from pandas>=1.0.0->ucimlrepo)\n",
      "  Using cached pytz-2024.1-py2.py3-none-any.whl.metadata (22 kB)\n",
      "Collecting tzdata>=2022.1 (from pandas>=1.0.0->ucimlrepo)\n",
      "  Using cached tzdata-2024.1-py2.py3-none-any.whl.metadata (1.4 kB)\n",
      "Collecting numpy>=1.20.3 (from pandas>=1.0.0->ucimlrepo)\n",
      "  Using cached numpy-1.24.4-cp38-cp38-macosx_11_0_arm64.whl.metadata (5.6 kB)\n",
      "Requirement already satisfied: six>=1.5 in /Users/ngkuissi/miniforge3/envs/forest/lib/python3.8/site-packages (from python-dateutil>=2.8.2->pandas>=1.0.0->ucimlrepo) (1.16.0)\n",
      "Downloading ucimlrepo-0.0.7-py3-none-any.whl (8.0 kB)\n",
      "Using cached certifi-2024.7.4-py3-none-any.whl (162 kB)\n",
      "Using cached pandas-2.0.3-cp38-cp38-macosx_11_0_arm64.whl (10.7 MB)\n",
      "Using cached numpy-1.24.4-cp38-cp38-macosx_11_0_arm64.whl (13.8 MB)\n",
      "Using cached pytz-2024.1-py2.py3-none-any.whl (505 kB)\n",
      "Using cached tzdata-2024.1-py2.py3-none-any.whl (345 kB)\n",
      "Installing collected packages: pytz, tzdata, numpy, certifi, pandas, ucimlrepo\n",
      "Successfully installed certifi-2024.7.4 numpy-1.24.4 pandas-2.0.3 pytz-2024.1 tzdata-2024.1 ucimlrepo-0.0.7\n"
     ]
    }
   ],
   "source": [
    "!pip install ucimlrepo"
   ]
  },
  {
   "cell_type": "code",
   "execution_count": 2,
   "metadata": {},
   "outputs": [
    {
     "name": "stdout",
     "output_type": "stream",
     "text": [
      "{'uci_id': 31, 'name': 'Covertype', 'repository_url': 'https://archive.ics.uci.edu/dataset/31/covertype', 'data_url': 'https://archive.ics.uci.edu/static/public/31/data.csv', 'abstract': 'Classification of pixels into 7 forest cover types based on attributes such as elevation, aspect, slope, hillshade, soil-type, and more.', 'area': 'Biology', 'tasks': ['Classification'], 'characteristics': ['Multivariate'], 'num_instances': 581012, 'num_features': 54, 'feature_types': ['Categorical', 'Integer'], 'demographics': [], 'target_col': ['Cover_Type'], 'index_col': None, 'has_missing_values': 'no', 'missing_values_symbol': None, 'year_of_dataset_creation': 1998, 'last_updated': 'Sat Mar 16 2024', 'dataset_doi': '10.24432/C50K5N', 'creators': ['Jock Blackard'], 'intro_paper': None, 'additional_info': {'summary': 'Predicting forest cover type from cartographic variables only (no remotely sensed data).  The actual forest cover type for a given observation (30 x 30 meter cell) was determined from US Forest Service (USFS) Region 2 Resource Information System (RIS) data.  Independent variables were derived from data originally obtained from US Geological Survey (USGS) and USFS data.  Data is in raw form (not scaled) and contains binary (0 or 1) columns of data for qualitative independent variables (wilderness areas and soil types).\\r\\n\\r\\nThis study area includes four wilderness areas located in the Roosevelt National Forest of northern Colorado.  These areas represent forests with minimal human-caused disturbances, so that existing forest cover types are more a result of ecological processes rather than forest management practices.\\r\\n\\r\\nSome background information for these four wilderness areas: Neota (area 2) probably has the highest mean elevational value of the 4 wilderness areas. Rawah (area 1) and Comanche Peak (area 3) would have a lower mean elevational value, while Cache la Poudre (area 4) would have the lowest mean elevational value. \\r\\n\\r\\nAs for primary major tree species in these areas, Neota would have spruce/fir (type 1), while Rawah and Comanche Peak would probably have lodgepole pine (type 2) as their primary species, followed by spruce/fir and aspen (type 5). Cache la Poudre would tend to have Ponderosa pine (type 3), Douglas-fir (type 6), and cottonwood/willow (type 4).  \\r\\n\\r\\nThe Rawah and Comanche Peak areas would tend to be more typical of the overall dataset than either the Neota or Cache la Poudre, due to their assortment of tree species and range of predictive variable values (elevation, etc.)  Cache la Poudre would probably  be more unique than the others, due to its relatively low  elevation range and species composition. ', 'purpose': None, 'funded_by': None, 'instances_represent': None, 'recommended_data_splits': None, 'sensitive_data': None, 'preprocessing_description': None, 'variable_info': 'Given is the attribute name, attribute type, the measurement unit and a brief description.  The forest cover type is the classification  problem.  The order of this listing corresponds to the order of numerals along the rows of the database.\\r\\n\\r\\nName / Data Type / Measurement / Description\\r\\n\\r\\nElevation / quantitative /meters / Elevation in meters\\r\\nAspect / quantitative / azimuth / Aspect in degrees azimuth\\r\\nSlope / quantitative / degrees / Slope in degrees\\r\\nHorizontal_Distance_To_Hydrology / quantitative / meters / Horz Dist to nearest surface water features\\r\\nVertical_Distance_To_Hydrology / quantitative / meters / Vert Dist to nearest surface water features\\r\\nHorizontal_Distance_To_Roadways / quantitative / meters / Horz Dist to nearest roadway\\r\\nHillshade_9am / quantitative / 0 to 255 index / Hillshade index at 9am, summer solstice\\r\\nHillshade_Noon / quantitative / 0 to 255 index / Hillshade index at noon, summer soltice\\r\\nHillshade_3pm / quantitative / 0 to 255 index / Hillshade index at 3pm, summer solstice\\r\\nHorizontal_Distance_To_Fire_Points / quantitative / meters / Horz Dist to nearest wildfire ignition points\\r\\nWilderness_Area (4 binary columns) / qualitative / 0 (absence) or 1 (presence) / Wilderness area designation\\r\\nSoil_Type (40 binary columns) / qualitative / 0 (absence) or 1 (presence) / Soil Type designation\\r\\nCover_Type (7 types) / integer / 1 to 7 / Forest Cover Type designation', 'citation': None}}\n",
      "                                  name     role     type demographic  \\\n",
      "0                            Elevation  Feature  Integer        None   \n",
      "1                               Aspect  Feature  Integer        None   \n",
      "2                                Slope  Feature  Integer        None   \n",
      "3     Horizontal_Distance_To_Hydrology  Feature  Integer        None   \n",
      "4       Vertical_Distance_To_Hydrology  Feature  Integer        None   \n",
      "5      Horizontal_Distance_To_Roadways  Feature  Integer        None   \n",
      "6                        Hillshade_9am  Feature  Integer        None   \n",
      "7                       Hillshade_Noon  Feature  Integer        None   \n",
      "8                        Hillshade_3pm  Feature  Integer        None   \n",
      "9   Horizontal_Distance_To_Fire_Points  Feature  Integer        None   \n",
      "10                    Wilderness_Area1  Feature  Integer        None   \n",
      "11                          Soil_Type1  Feature  Integer        None   \n",
      "12                          Soil_Type2  Feature  Integer        None   \n",
      "13                          Soil_Type3  Feature  Integer        None   \n",
      "14                          Soil_Type4  Feature  Integer        None   \n",
      "15                          Soil_Type5  Feature  Integer        None   \n",
      "16                          Soil_Type6  Feature  Integer        None   \n",
      "17                          Soil_Type7  Feature  Integer        None   \n",
      "18                          Soil_Type8  Feature  Integer        None   \n",
      "19                          Soil_Type9  Feature  Integer        None   \n",
      "20                         Soil_Type10  Feature  Integer        None   \n",
      "21                         Soil_Type11  Feature  Integer        None   \n",
      "22                         Soil_Type12  Feature  Integer        None   \n",
      "23                         Soil_Type13  Feature  Integer        None   \n",
      "24                         Soil_Type14  Feature  Integer        None   \n",
      "25                         Soil_Type15  Feature  Integer        None   \n",
      "26                         Soil_Type16  Feature  Integer        None   \n",
      "27                         Soil_Type17  Feature  Integer        None   \n",
      "28                         Soil_Type18  Feature  Integer        None   \n",
      "29                         Soil_Type19  Feature  Integer        None   \n",
      "30                         Soil_Type20  Feature  Integer        None   \n",
      "31                         Soil_Type21  Feature  Integer        None   \n",
      "32                         Soil_Type22  Feature  Integer        None   \n",
      "33                         Soil_Type23  Feature  Integer        None   \n",
      "34                         Soil_Type24  Feature  Integer        None   \n",
      "35                         Soil_Type25  Feature  Integer        None   \n",
      "36                         Soil_Type26  Feature  Integer        None   \n",
      "37                         Soil_Type27  Feature  Integer        None   \n",
      "38                         Soil_Type28  Feature  Integer        None   \n",
      "39                         Soil_Type29  Feature  Integer        None   \n",
      "40                         Soil_Type30  Feature  Integer        None   \n",
      "41                         Soil_Type31  Feature  Integer        None   \n",
      "42                         Soil_Type32  Feature  Integer        None   \n",
      "43                         Soil_Type33  Feature  Integer        None   \n",
      "44                         Soil_Type34  Feature  Integer        None   \n",
      "45                         Soil_Type35  Feature  Integer        None   \n",
      "46                         Soil_Type36  Feature  Integer        None   \n",
      "47                         Soil_Type37  Feature  Integer        None   \n",
      "48                         Soil_Type38  Feature  Integer        None   \n",
      "49                         Soil_Type39  Feature  Integer        None   \n",
      "50                         Soil_Type40  Feature  Integer        None   \n",
      "51                          Cover_Type   Target  Integer        None   \n",
      "52                    Wilderness_Area2  Feature  Integer        None   \n",
      "53                    Wilderness_Area3  Feature  Integer        None   \n",
      "54                    Wilderness_Area4  Feature  Integer        None   \n",
      "\n",
      "   description units missing_values  \n",
      "0         None  None             no  \n",
      "1         None  None             no  \n",
      "2         None  None             no  \n",
      "3         None  None             no  \n",
      "4         None  None             no  \n",
      "5         None  None             no  \n",
      "6         None  None             no  \n",
      "7         None  None             no  \n",
      "8         None  None             no  \n",
      "9         None  None             no  \n",
      "10        None  None             no  \n",
      "11        None  None             no  \n",
      "12        None  None             no  \n",
      "13        None  None             no  \n",
      "14        None  None             no  \n",
      "15        None  None             no  \n",
      "16        None  None             no  \n",
      "17        None  None             no  \n",
      "18        None  None             no  \n",
      "19        None  None             no  \n",
      "20        None  None             no  \n",
      "21        None  None             no  \n",
      "22        None  None             no  \n",
      "23        None  None             no  \n",
      "24        None  None             no  \n",
      "25        None  None             no  \n",
      "26        None  None             no  \n",
      "27        None  None             no  \n",
      "28        None  None             no  \n",
      "29        None  None             no  \n",
      "30        None  None             no  \n",
      "31        None  None             no  \n",
      "32        None  None             no  \n",
      "33        None  None             no  \n",
      "34        None  None             no  \n",
      "35        None  None             no  \n",
      "36        None  None             no  \n",
      "37        None  None             no  \n",
      "38        None  None             no  \n",
      "39        None  None             no  \n",
      "40        None  None             no  \n",
      "41        None  None             no  \n",
      "42        None  None             no  \n",
      "43        None  None             no  \n",
      "44        None  None             no  \n",
      "45        None  None             no  \n",
      "46        None  None             no  \n",
      "47        None  None             no  \n",
      "48        None  None             no  \n",
      "49        None  None             no  \n",
      "50        None  None             no  \n",
      "51        None  None             no  \n",
      "52        None  None             no  \n",
      "53        None  None             no  \n",
      "54        None  None             no  \n",
      "<class 'pandas.core.frame.DataFrame'>\n"
     ]
    }
   ],
   "source": [
    "from ucimlrepo import fetch_ucirepo \n",
    "  \n",
    "# fetch dataset \n",
    "covertype = fetch_ucirepo(id=31) \n",
    "  \n",
    "# data (as pandas dataframes) \n",
    "X = covertype.data.features \n",
    "y = covertype.data.targets \n",
    "  \n",
    "# metadata \n",
    "print(covertype.metadata) \n",
    "  \n",
    "# variable information \n",
    "print(covertype.variables)\n",
    "print(type(covertype.data.original))"
   ]
  },
  {
   "cell_type": "code",
   "execution_count": 3,
   "metadata": {},
   "outputs": [],
   "source": [
    "df = covertype.data.original\n",
    "df.to_csv(\"data/cover.csv\")"
   ]
  },
  {
   "cell_type": "code",
   "execution_count": 5,
   "metadata": {},
   "outputs": [
    {
     "name": "stdout",
     "output_type": "stream",
     "text": [
      "Collecting evidently==0.2.8\n",
      "  Downloading evidently-0.2.8-py3-none-any.whl.metadata (1.3 kB)\n",
      "Requirement already satisfied: plotly>=5.5.0 in /Users/ngkuissi/miniforge3/envs/forest/lib/python3.8/site-packages (from evidently==0.2.8) (5.23.0)\n",
      "Requirement already satisfied: statsmodels>=0.12.2 in /Users/ngkuissi/miniforge3/envs/forest/lib/python3.8/site-packages (from evidently==0.2.8) (0.14.1)\n",
      "Requirement already satisfied: scikit-learn>=0.24.0 in /Users/ngkuissi/miniforge3/envs/forest/lib/python3.8/site-packages (from evidently==0.2.8) (1.3.2)\n",
      "Requirement already satisfied: pandas>=1.3.5 in /Users/ngkuissi/miniforge3/envs/forest/lib/python3.8/site-packages (from evidently==0.2.8) (2.0.3)\n",
      "Requirement already satisfied: numpy>=1.19.5 in /Users/ngkuissi/miniforge3/envs/forest/lib/python3.8/site-packages (from evidently==0.2.8) (1.24.4)\n",
      "Requirement already satisfied: nltk>=3.6.7 in /Users/ngkuissi/miniforge3/envs/forest/lib/python3.8/site-packages (from evidently==0.2.8) (3.8.1)\n",
      "Requirement already satisfied: scipy>=1.5.4 in /Users/ngkuissi/miniforge3/envs/forest/lib/python3.8/site-packages (from evidently==0.2.8) (1.10.1)\n",
      "Requirement already satisfied: requests>=2.19.0 in /Users/ngkuissi/miniforge3/envs/forest/lib/python3.8/site-packages (from evidently==0.2.8) (2.32.3)\n",
      "Requirement already satisfied: PyYAML>=5.1 in /Users/ngkuissi/miniforge3/envs/forest/lib/python3.8/site-packages (from evidently==0.2.8) (5.3.1)\n",
      "Collecting pydantic<2 (from evidently==0.2.8)\n",
      "  Using cached pydantic-1.10.17-cp38-cp38-macosx_11_0_arm64.whl.metadata (151 kB)\n",
      "Requirement already satisfied: click in /Users/ngkuissi/miniforge3/envs/forest/lib/python3.8/site-packages (from nltk>=3.6.7->evidently==0.2.8) (8.1.7)\n",
      "Requirement already satisfied: joblib in /Users/ngkuissi/miniforge3/envs/forest/lib/python3.8/site-packages (from nltk>=3.6.7->evidently==0.2.8) (1.4.2)\n",
      "Requirement already satisfied: regex>=2021.8.3 in /Users/ngkuissi/miniforge3/envs/forest/lib/python3.8/site-packages (from nltk>=3.6.7->evidently==0.2.8) (2024.7.24)\n",
      "Requirement already satisfied: tqdm in /Users/ngkuissi/miniforge3/envs/forest/lib/python3.8/site-packages (from nltk>=3.6.7->evidently==0.2.8) (4.66.4)\n",
      "Requirement already satisfied: python-dateutil>=2.8.2 in /Users/ngkuissi/miniforge3/envs/forest/lib/python3.8/site-packages (from pandas>=1.3.5->evidently==0.2.8) (2.9.0)\n",
      "Requirement already satisfied: pytz>=2020.1 in /Users/ngkuissi/miniforge3/envs/forest/lib/python3.8/site-packages (from pandas>=1.3.5->evidently==0.2.8) (2024.1)\n",
      "Requirement already satisfied: tzdata>=2022.1 in /Users/ngkuissi/miniforge3/envs/forest/lib/python3.8/site-packages (from pandas>=1.3.5->evidently==0.2.8) (2024.1)\n",
      "Requirement already satisfied: tenacity>=6.2.0 in /Users/ngkuissi/miniforge3/envs/forest/lib/python3.8/site-packages (from plotly>=5.5.0->evidently==0.2.8) (8.5.0)\n",
      "Requirement already satisfied: packaging in /Users/ngkuissi/miniforge3/envs/forest/lib/python3.8/site-packages (from plotly>=5.5.0->evidently==0.2.8) (24.1)\n",
      "Requirement already satisfied: typing-extensions>=4.2.0 in /Users/ngkuissi/miniforge3/envs/forest/lib/python3.8/site-packages (from pydantic<2->evidently==0.2.8) (4.12.2)\n",
      "Requirement already satisfied: charset-normalizer<4,>=2 in /Users/ngkuissi/miniforge3/envs/forest/lib/python3.8/site-packages (from requests>=2.19.0->evidently==0.2.8) (3.3.2)\n",
      "Requirement already satisfied: idna<4,>=2.5 in /Users/ngkuissi/miniforge3/envs/forest/lib/python3.8/site-packages (from requests>=2.19.0->evidently==0.2.8) (3.7)\n",
      "Requirement already satisfied: urllib3<3,>=1.21.1 in /Users/ngkuissi/miniforge3/envs/forest/lib/python3.8/site-packages (from requests>=2.19.0->evidently==0.2.8) (1.26.19)\n",
      "Requirement already satisfied: certifi>=2017.4.17 in /Users/ngkuissi/miniforge3/envs/forest/lib/python3.8/site-packages (from requests>=2.19.0->evidently==0.2.8) (2024.7.4)\n",
      "Requirement already satisfied: threadpoolctl>=2.0.0 in /Users/ngkuissi/miniforge3/envs/forest/lib/python3.8/site-packages (from scikit-learn>=0.24.0->evidently==0.2.8) (3.5.0)\n",
      "Requirement already satisfied: patsy>=0.5.4 in /Users/ngkuissi/miniforge3/envs/forest/lib/python3.8/site-packages (from statsmodels>=0.12.2->evidently==0.2.8) (0.5.6)\n",
      "Requirement already satisfied: six in /Users/ngkuissi/miniforge3/envs/forest/lib/python3.8/site-packages (from patsy>=0.5.4->statsmodels>=0.12.2->evidently==0.2.8) (1.16.0)\n",
      "Using cached evidently-0.2.8-py3-none-any.whl (12.1 MB)\n",
      "Using cached pydantic-1.10.17-cp38-cp38-macosx_11_0_arm64.whl (2.3 MB)\n",
      "Installing collected packages: pydantic, evidently\n",
      "  Attempting uninstall: pydantic\n",
      "    Found existing installation: pydantic 2.8.2\n",
      "    Uninstalling pydantic-2.8.2:\n",
      "      Successfully uninstalled pydantic-2.8.2\n",
      "  Attempting uninstall: evidently\n",
      "    Found existing installation: evidently 0.4.16\n",
      "    Uninstalling evidently-0.4.16:\n",
      "      Successfully uninstalled evidently-0.4.16\n",
      "\u001b[31mERROR: pip's dependency resolver does not currently take into account all the packages that are installed. This behaviour is the source of the following dependency conflicts.\n",
      "forestcover 0.0.1 requires evidently==0.4.16, but you have evidently 0.2.8 which is incompatible.\u001b[0m\u001b[31m\n",
      "\u001b[0mSuccessfully installed evidently-0.2.8 pydantic-1.10.17\n"
     ]
    }
   ],
   "source": [
    "!pip install evidently==0.2.8"
   ]
  },
  {
   "cell_type": "code",
   "execution_count": 9,
   "metadata": {},
   "outputs": [
    {
     "name": "stdout",
     "output_type": "stream",
     "text": [
      "{\"data_drift\": {\"name\": \"data_drift\", \"datetime\": \"2024-07-27 11:39:12.495756\", \"data\": {\"utility_columns\": {\"date\": null, \"id\": null, \"target\": null, \"prediction\": null}, \"num_feature_names\": [\"petal length (cm)\", \"petal width (cm)\", \"sepal length (cm)\", \"sepal width (cm)\"], \"cat_feature_names\": [], \"text_feature_names\": [], \"datetime_feature_names\": [], \"target_names\": null, \"options\": {\"confidence\": null, \"drift_share\": 0.5, \"nbinsx\": 10, \"xbins\": null}, \"metrics\": {\"n_features\": 4, \"n_drifted_features\": 0, \"share_drifted_features\": 0.0, \"dataset_drift\": false, \"petal length (cm)\": {\"current_small_hist\": {\"x\": [1.3, 1.84, 2.38, 2.92, 3.46, 4.0, 4.54, 5.08, 5.62, 6.16, 6.7], \"y\": [0.5555555555555555, 0.0, 0.0, 0.12345679012345677, 0.061728395061728385, 0.18518518518518517, 0.24691358024691354, 0.37037037037037035, 0.18518518518518517, 0.12345679012345677]}, \"ref_small_hist\": {\"x\": [1.0, 1.59, 2.18, 2.7700000000000005, 3.3600000000000003, 3.95, 4.540000000000001, 5.130000000000001, 5.720000000000001, 6.3100000000000005, 6.9], \"y\": [0.45197740112994345, 0.1271186440677966, 0.0, 0.014124293785310738, 0.09887005649717516, 0.32485875706214645, 0.32485875706214695, 0.19774011299435032, 0.1129943502824859, 0.042372881355932215]}, \"feature_type\": \"num\", \"stattest_name\": \"K-S p_value\", \"drift_score\": 0.823750212184252, \"drift_detected\": false}, \"petal width (cm)\": {\"current_small_hist\": {\"x\": [0.2, 0.43, 0.6599999999999999, 0.8899999999999999, 1.1199999999999999, 1.3499999999999999, 1.5799999999999998, 1.8099999999999998, 2.04, 2.27, 2.5], \"y\": [1.3043478260869565, 0.0, 0.0, 0.4347826086956522, 0.1449275362318841, 0.5797101449275364, 0.5797101449275364, 0.14492753623188392, 0.2898550724637682, 0.8695652173913044]}, \"ref_small_hist\": {\"x\": [0.1, 0.33999999999999997, 0.58, 0.82, 1.06, 1.3, 1.54, 1.78, 2.02, 2.2600000000000002, 2.5], \"y\": [1.1805555555555558, 0.20833333333333334, 0.034722222222222224, 0.17361111111111105, 0.20833333333333334, 1.0069444444444444, 0.1388888888888889, 0.6944444444444445, 0.24305555555555533, 0.277777777777778]}, \"feature_type\": \"num\", \"stattest_name\": \"K-S p_value\", \"drift_score\": 0.31822544992860635, \"drift_detected\": false}, \"sepal length (cm)\": {\"current_small_hist\": {\"x\": [4.6, 4.91, 5.22, 5.529999999999999, 5.84, 6.15, 6.46, 6.77, 7.08, 7.390000000000001, 7.7], \"y\": [0.5376344086021497, 0.32258064516129076, 0.430107526881721, 0.21505376344085989, 0.21505376344085989, 0.32258064516129076, 0.7526881720430117, 0.0, 0.10752688172042994, 0.32258064516129076]}, \"ref_small_hist\": {\"x\": [4.3, 4.66, 5.02, 5.38, 5.74, 6.1, 6.46, 6.82, 7.18, 7.54, 7.9], \"y\": [0.18518518518518504, 0.39351851851851916, 0.30092592592592565, 0.5324074074074069, 0.27777777777777823, 0.5324074074074069, 0.25462962962962943, 0.13888888888888912, 0.09259259259259252, 0.06944444444444439]}, \"feature_type\": \"num\", \"stattest_name\": \"K-S p_value\", \"drift_score\": 0.4893883023392279, \"drift_detected\": false}, \"sepal width (cm)\": {\"current_small_hist\": {\"x\": [2.4, 2.55, 2.6999999999999997, 2.8499999999999996, 3.0, 3.15, 3.3, 3.45, 3.5999999999999996, 3.75, 3.9], \"y\": [0.8888888888888894, 0.22222222222222235, 0.8888888888888894, 0.0, 2.0000000000000013, 0.4444444444444447, 1.3333333333333302, 0.0, 0.4444444444444434, 0.4444444444444447]}, \"ref_small_hist\": {\"x\": [2.0, 2.24, 2.48, 2.72, 2.96, 3.2, 3.4400000000000004, 3.6800000000000006, 3.9200000000000004, 4.16, 4.4], \"y\": [0.13888888888888878, 0.17361111111111127, 0.6249999999999994, 0.7291666666666674, 0.9722222222222213, 0.7986111111111104, 0.27777777777777757, 0.3125000000000003, 0.0694444444444445, 0.06944444444444439]}, \"feature_type\": \"num\", \"stattest_name\": \"K-S p_value\", \"drift_score\": 0.9602445388284747, \"drift_detected\": false}}}}, \"timestamp\": \"2024-07-27 11:39:12.495842\"}\n"
     ]
    }
   ],
   "source": [
    "import pandas as pd\n",
    "from sklearn import datasets\n",
    "from sklearn.model_selection import train_test_split\n",
    "\n",
    "from evidently.model_profile import Profile\n",
    "from evidently.model_profile.sections import DataDriftProfileSection\n",
    "\n",
    "\n",
    "iris = datasets.load_iris()\n",
    "iris_frame = pd.DataFrame(iris.data, columns = iris.feature_names)\n",
    "iris_target_and_data_drift_profile = Profile(sections=[DataDriftProfileSection()])\n",
    "train, test = train_test_split(iris_frame, test_size=0.2)\n",
    "iris_target_and_data_drift_profile.calculate(train, test, column_mapping=None) \n",
    "print(iris_target_and_data_drift_profile.json())\n"
   ]
  },
  {
   "cell_type": "code",
   "execution_count": 1,
   "metadata": {},
   "outputs": [],
   "source": [
    "import os\n",
    "import pandas as pd\n"
   ]
  },
  {
   "cell_type": "code",
   "execution_count": 2,
   "metadata": {},
   "outputs": [],
   "source": [
    "os.chdir(\"..\")"
   ]
  },
  {
   "cell_type": "code",
   "execution_count": 3,
   "metadata": {},
   "outputs": [],
   "source": [
    "train= pd.read_csv(\"artifacts/DataIngestion/train.csv\")"
   ]
  },
  {
   "cell_type": "code",
   "execution_count": 4,
   "metadata": {},
   "outputs": [
    {
     "data": {
      "text/plain": [
       "(464809, 51)"
      ]
     },
     "execution_count": 4,
     "metadata": {},
     "output_type": "execute_result"
    }
   ],
   "source": [
    "train.shape"
   ]
  },
  {
   "cell_type": "code",
   "execution_count": 6,
   "metadata": {},
   "outputs": [
    {
     "data": {
      "text/plain": [
       "Index(['Elevation', 'Aspect', 'Slope', 'Horizontal_Distance_To_Hydrology',\n",
       "       'Vertical_Distance_To_Hydrology', 'Horizontal_Distance_To_Roadways',\n",
       "       'Hillshade_9am', 'Hillshade_Noon', 'Hillshade_3pm',\n",
       "       'Horizontal_Distance_To_Fire_Points', 'Cover_Type', 'Soil_Type1',\n",
       "       'Soil_Type2', 'Soil_Type3', 'Soil_Type4', 'Soil_Type5', 'Soil_Type6',\n",
       "       'Soil_Type9', 'Soil_Type10', 'Soil_Type11', 'Soil_Type12',\n",
       "       'Soil_Type13', 'Soil_Type14', 'Soil_Type16', 'Soil_Type17',\n",
       "       'Soil_Type18', 'Soil_Type19', 'Soil_Type20', 'Soil_Type21',\n",
       "       'Soil_Type22', 'Soil_Type23', 'Soil_Type24', 'Soil_Type25',\n",
       "       'Soil_Type26', 'Soil_Type27', 'Soil_Type28', 'Soil_Type29',\n",
       "       'Soil_Type30', 'Soil_Type31', 'Soil_Type32', 'Soil_Type33',\n",
       "       'Soil_Type34', 'Soil_Type35', 'Soil_Type37', 'Soil_Type38',\n",
       "       'Soil_Type39', 'Soil_Type40', 'Wilderness_Area1', 'Wilderness_Area2',\n",
       "       'Wilderness_Area3', 'Wilderness_Area4'],\n",
       "      dtype='object')"
      ]
     },
     "execution_count": 6,
     "metadata": {},
     "output_type": "execute_result"
    }
   ],
   "source": [
    "train.columns"
   ]
  },
  {
   "cell_type": "code",
   "execution_count": null,
   "metadata": {},
   "outputs": [],
   "source": []
  }
 ],
 "metadata": {
  "kernelspec": {
   "display_name": "forest",
   "language": "python",
   "name": "python3"
  },
  "language_info": {
   "codemirror_mode": {
    "name": "ipython",
    "version": 3
   },
   "file_extension": ".py",
   "mimetype": "text/x-python",
   "name": "python",
   "nbconvert_exporter": "python",
   "pygments_lexer": "ipython3",
   "version": "3.8.19"
  },
  "orig_nbformat": 4
 },
 "nbformat": 4,
 "nbformat_minor": 2
}
